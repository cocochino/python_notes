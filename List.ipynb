{
 "cells": [
  {
   "cell_type": "markdown",
   "id": "7631e407",
   "metadata": {},
   "source": [
    "# List\n",
    "-  List users square brackets.\n",
    "-  Lists can be modified\n"
   ]
  },
  {
   "cell_type": "markdown",
   "id": "225788fd",
   "metadata": {},
   "source": [
    "## Accessign and assigning\n",
    "-  List can be accessed by subscripting (like [0])\n",
    "-  List accepts reassignment"
   ]
  },
  {
   "cell_type": "code",
   "execution_count": 10,
   "id": "6e6bea20",
   "metadata": {},
   "outputs": [
    {
     "name": "stdout",
     "output_type": "stream",
     "text": [
      "cat_list[0] is Preston\n"
     ]
    }
   ],
   "source": [
    "cat_list = ['Preston', 'Ralph', 'Phrito', 'Mooshu']\n",
    "print(\"cat_list[0] is \" + cat_list[0])"
   ]
  },
  {
   "cell_type": "markdown",
   "id": "71668e19",
   "metadata": {},
   "source": [
    "## Appending, reassigning, inserting, and removing"
   ]
  },
  {
   "cell_type": "code",
   "execution_count": 11,
   "id": "94b7d455",
   "metadata": {},
   "outputs": [
    {
     "name": "stdout",
     "output_type": "stream",
     "text": [
      "cat_list[0] is Loren\n"
     ]
    }
   ],
   "source": [
    "cat_list[0] = \"Loren\"\n",
    "print(\"cat_list[0] is \" + cat_list[0])"
   ]
  },
  {
   "cell_type": "code",
   "execution_count": 12,
   "id": "c8335a52",
   "metadata": {},
   "outputs": [
    {
     "name": "stdout",
     "output_type": "stream",
     "text": [
      "['Loren', 'Ralph', 'Phrito', 'Mooshu', 'Iko']\n"
     ]
    }
   ],
   "source": [
    "cat_list.append(\"Iko\")\n",
    "print(cat_list)"
   ]
  },
  {
   "cell_type": "code",
   "execution_count": 13,
   "id": "21ef1cfe",
   "metadata": {},
   "outputs": [
    {
     "name": "stdout",
     "output_type": "stream",
     "text": [
      "['Preston', 'Loren', 'Ralph', 'Phrito', 'Mooshu', 'Iko']\n"
     ]
    }
   ],
   "source": [
    "cat_list.insert(0, \"Preston\")\n",
    "print(cat_list)"
   ]
  },
  {
   "cell_type": "code",
   "execution_count": 14,
   "id": "961df1c2",
   "metadata": {},
   "outputs": [
    {
     "name": "stdout",
     "output_type": "stream",
     "text": [
      "['Preston', 'Ralph', 'Phrito', 'Mooshu', 'Iko']\n"
     ]
    }
   ],
   "source": [
    "cat_list.remove(\"Loren\")\n",
    "print(cat_list)"
   ]
  },
  {
   "cell_type": "markdown",
   "id": "725eb422",
   "metadata": {},
   "source": [
    "## Membership and Boolean \n",
    "- Check list membership with keyword 'in'. "
   ]
  },
  {
   "cell_type": "code",
   "execution_count": 15,
   "id": "2381e946",
   "metadata": {},
   "outputs": [
    {
     "name": "stdout",
     "output_type": "stream",
     "text": [
      "False\n"
     ]
    }
   ],
   "source": [
    "print(\"Loren\" in cat_list)"
   ]
  },
  {
   "cell_type": "markdown",
   "id": "33de83ca",
   "metadata": {},
   "source": [
    "## Reverting the list"
   ]
  },
  {
   "cell_type": "code",
   "execution_count": 16,
   "id": "4de6379b",
   "metadata": {},
   "outputs": [
    {
     "name": "stdout",
     "output_type": "stream",
     "text": [
      "['Iko', 'Mooshu', 'Phrito', 'Ralph', 'Preston']\n"
     ]
    }
   ],
   "source": [
    "cat_list.reverse()\n",
    "print(cat_list)"
   ]
  },
  {
   "cell_type": "code",
   "execution_count": null,
   "id": "1107dcb6",
   "metadata": {},
   "outputs": [],
   "source": []
  }
 ],
 "metadata": {
  "kernelspec": {
   "display_name": "Python 3 (ipykernel)",
   "language": "python",
   "name": "python3"
  },
  "language_info": {
   "codemirror_mode": {
    "name": "ipython",
    "version": 3
   },
   "file_extension": ".py",
   "mimetype": "text/x-python",
   "name": "python",
   "nbconvert_exporter": "python",
   "pygments_lexer": "ipython3",
   "version": "3.10.9"
  }
 },
 "nbformat": 4,
 "nbformat_minor": 5
}
