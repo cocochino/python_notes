{
 "cells": [
  {
   "cell_type": "markdown",
   "id": "f4767045",
   "metadata": {},
   "source": [
    "# File I/O\n",
    "- reading external file\n",
    "- writing to external file\n",
    "- handling CSV"
   ]
  },
  {
   "cell_type": "markdown",
   "id": "3adbb803",
   "metadata": {},
   "source": [
    "## ConfigParser\n",
    "\n",
    "- Need pip install configparser"
   ]
  },
  {
   "cell_type": "code",
   "execution_count": 62,
   "id": "22f6fef7",
   "metadata": {},
   "outputs": [],
   "source": [
    "import configparser"
   ]
  },
  {
   "cell_type": "code",
   "execution_count": 76,
   "id": "3039ec7f",
   "metadata": {},
   "outputs": [
    {
     "data": {
      "text/plain": [
       "['donors.txt']"
      ]
     },
     "execution_count": 76,
     "metadata": {},
     "output_type": "execute_result"
    }
   ],
   "source": [
    "cp = configparser.RawConfigParser() \n",
    "configFilePath = r'donors.txt'\n",
    "cp.read(configFilePath)"
   ]
  },
  {
   "cell_type": "code",
   "execution_count": 77,
   "id": "4695508e",
   "metadata": {},
   "outputs": [
    {
     "data": {
      "text/plain": [
       "'Donor One'"
      ]
     },
     "execution_count": 77,
     "metadata": {},
     "output_type": "execute_result"
    }
   ],
   "source": [
    "cp['DONOR1']['name']"
   ]
  },
  {
   "cell_type": "markdown",
   "id": "fc0fc9af",
   "metadata": {},
   "source": [
    "## JSON handling"
   ]
  },
  {
   "cell_type": "code",
   "execution_count": 32,
   "id": "e548eb87",
   "metadata": {},
   "outputs": [],
   "source": [
    "import json"
   ]
  },
  {
   "cell_type": "code",
   "execution_count": 40,
   "id": "90d2e807",
   "metadata": {},
   "outputs": [],
   "source": [
    "cats_dict = {\n",
    "    'cats': [\n",
    "        {'id': 6, 'name': 'Lilly', 'nickname': 'Snow Whilte'},\n",
    "        {'id': 7, 'name': 'Carrot', 'nickname': 'Orange'}\n",
    "    ]\n",
    "}"
   ]
  },
  {
   "cell_type": "code",
   "execution_count": 41,
   "id": "ccccd06a",
   "metadata": {},
   "outputs": [],
   "source": [
    "with open('cats.json', 'w') as cats1:\n",
    "    json.dump(cats_dict, cats1)"
   ]
  },
  {
   "cell_type": "code",
   "execution_count": 35,
   "id": "2915686d",
   "metadata": {},
   "outputs": [
    {
     "name": "stdout",
     "output_type": "stream",
     "text": [
      "{\"cats\": [{\"id\": 6, \"name\": \"Lilly\", \"nickname\": \"Snow Whilte\"}, {\"id\": 7, \"name\": \"Carrot\", \"nickname\": \"Orange\"}]}\n"
     ]
    }
   ],
   "source": [
    "!more cats.json"
   ]
  },
  {
   "cell_type": "code",
   "execution_count": 55,
   "id": "e358ecda",
   "metadata": {},
   "outputs": [],
   "source": [
    "with open('cats.json', 'r') as cats:\n",
    "    cats_json = json.load(cats)"
   ]
  },
  {
   "cell_type": "code",
   "execution_count": 56,
   "id": "6c98838c",
   "metadata": {},
   "outputs": [
    {
     "name": "stdout",
     "output_type": "stream",
     "text": [
      "{'cats': [{'id': 6, 'name': 'Lilly', 'nickname': 'Snow Whilte'}, {'id': 7, 'name': 'Carrot', 'nickname': 'Orange'}]}\n"
     ]
    }
   ],
   "source": [
    "print(cats_json)"
   ]
  },
  {
   "cell_type": "code",
   "execution_count": 57,
   "id": "cac058c9",
   "metadata": {},
   "outputs": [
    {
     "name": "stdout",
     "output_type": "stream",
     "text": [
      "Carrot\n"
     ]
    }
   ],
   "source": [
    "# Below call cats_json, then read section 'cats'. Then locate index = 1 and name field\n",
    "print(accounts_json['cats'][1]['name'])"
   ]
  },
  {
   "cell_type": "markdown",
   "id": "3753174e",
   "metadata": {},
   "source": [
    "## CSV file handling"
   ]
  },
  {
   "cell_type": "code",
   "execution_count": 26,
   "id": "767b65ca",
   "metadata": {},
   "outputs": [],
   "source": [
    "import csv"
   ]
  },
  {
   "cell_type": "code",
   "execution_count": 27,
   "id": "f13931e5",
   "metadata": {},
   "outputs": [],
   "source": [
    "with open('cats.csv', mode='w', newline='') as cats:\n",
    "    writer = csv.writer(cats)\n",
    "    writer.writerow([4, 'Iko', 'Purple Ribbon'])\n",
    "    writer.writerow([5, 'Loren', 'Yaksan'])"
   ]
  },
  {
   "cell_type": "code",
   "execution_count": 28,
   "id": "77c91743",
   "metadata": {},
   "outputs": [
    {
     "name": "stdout",
     "output_type": "stream",
     "text": [
      "4,Iko,Purple Ribbon\n",
      "5,Loren,Yaksan\n"
     ]
    }
   ],
   "source": [
    "!more cats.csv"
   ]
  },
  {
   "cell_type": "code",
   "execution_count": 29,
   "id": "b20f6fc3",
   "metadata": {},
   "outputs": [
    {
     "name": "stdout",
     "output_type": "stream",
     "text": [
      "ID        Name      Nickname  \n",
      "4         Iko       Purple Ribbon\n",
      "5         Loren     Yaksan    \n"
     ]
    }
   ],
   "source": [
    "with open('cats.csv', 'r', newline='') as cats:\n",
    "    print(f'{\"ID\":<10}{\"Name\":<10}{\"Nickname\":<10}')\n",
    "    reader = csv.reader(cats)\n",
    "    for record in reader:  \n",
    "        id, name, nickname = record\n",
    "        print(f'{id:<10}{name:<10}{nickname:<10}')"
   ]
  },
  {
   "cell_type": "markdown",
   "id": "e1502dd6",
   "metadata": {},
   "source": [
    "## Simple Way"
   ]
  },
  {
   "cell_type": "markdown",
   "id": "0d07be74",
   "metadata": {},
   "source": [
    "### Write into the files"
   ]
  },
  {
   "cell_type": "code",
   "execution_count": 22,
   "id": "f10a1a9a",
   "metadata": {},
   "outputs": [],
   "source": [
    "# This is overwrite mode\n",
    "with open('cats.txt', mode='w') as accounts:\n",
    "    accounts.write('1, Mooshu, Ninja\\n')\n",
    "    accounts.write('2, Preston, Big Bro\\n')\n",
    "    accounts.write('3, Ralph, Big Chill\\n')\n",
    "    accounts.write('4, Phrito, Fudge Bunny\\n')\n",
    "    "
   ]
  },
  {
   "cell_type": "markdown",
   "id": "7993954b",
   "metadata": {},
   "source": [
    "### Reading files"
   ]
  },
  {
   "cell_type": "code",
   "execution_count": 23,
   "id": "3b39146c",
   "metadata": {},
   "outputs": [
    {
     "name": "stdout",
     "output_type": "stream",
     "text": [
      "1, Mooshu, Ninja\n",
      "2, Preston, Big Bro\n",
      "3, Ralph, Big Chill\n",
      "4, Phrito, Fudge Bunny\n"
     ]
    }
   ],
   "source": [
    "#Use '!' sign to use OS command likek more\n",
    "!more cats.txt"
   ]
  },
  {
   "cell_type": "markdown",
   "id": "500c6868",
   "metadata": {},
   "source": [
    "### Iterate through the file line by line"
   ]
  },
  {
   "cell_type": "code",
   "execution_count": 24,
   "id": "0de2a6fd",
   "metadata": {},
   "outputs": [
    {
     "name": "stdout",
     "output_type": "stream",
     "text": [
      "ID        Name      Nickname  \n",
      "1          Mooshu    Ninja\n",
      "   \n",
      "2          Preston   Big Bro\n",
      " \n",
      "3          Ralph     Big Chill\n",
      "\n",
      "4          Phrito    Fudge Bunny\n",
      "\n"
     ]
    }
   ],
   "source": [
    "with open('cats.txt', mode='r') as cats:\n",
    "    print(f'{\"ID\":<10}{\"Name\":<10}{\"Nickname\":<10}')\n",
    "    for record in cats:\n",
    "        id, name, nickname = record.split(',')\n",
    "        print(f'{id:<10}{name:<10}{nickname:<10}')"
   ]
  },
  {
   "cell_type": "code",
   "execution_count": null,
   "id": "9517ddf4",
   "metadata": {},
   "outputs": [],
   "source": []
  }
 ],
 "metadata": {
  "kernelspec": {
   "display_name": "Python 3 (ipykernel)",
   "language": "python",
   "name": "python3"
  },
  "language_info": {
   "codemirror_mode": {
    "name": "ipython",
    "version": 3
   },
   "file_extension": ".py",
   "mimetype": "text/x-python",
   "name": "python",
   "nbconvert_exporter": "python",
   "pygments_lexer": "ipython3",
   "version": "3.10.9"
  }
 },
 "nbformat": 4,
 "nbformat_minor": 5
}
