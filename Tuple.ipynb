{
 "cells": [
  {
   "cell_type": "markdown",
   "id": "e3ce87d5",
   "metadata": {},
   "source": [
    "# Tuples\n",
    "- Tuple uses round brackets. \n",
    "- Tuples can't be modified\n",
    "- Tuples, like lists, keep entry orders and can be accessed by subscript notation(like [0])"
   ]
  },
  {
   "cell_type": "code",
   "execution_count": 1,
   "id": "a4a86b57",
   "metadata": {},
   "outputs": [
    {
     "name": "stdout",
     "output_type": "stream",
     "text": [
      "cat_tuple[0] is Preston\n"
     ]
    }
   ],
   "source": [
    "cat_tuple = ('Preston', 'Ralph', 'Phrito', 'Mooshu')\n",
    "print(\"cat_tuple[0] is \" + cat_tuple[0])"
   ]
  },
  {
   "cell_type": "code",
   "execution_count": 2,
   "id": "3a9e3193",
   "metadata": {},
   "outputs": [
    {
     "name": "stdout",
     "output_type": "stream",
     "text": [
      "(42,)\n"
     ]
    }
   ],
   "source": [
    "# To create a tuple with single element, append ',' at the end.\"\n",
    "# Phython uses , as a signal for tuple\n",
    "\n",
    "single_item_t = (42,)\n",
    "print(single_item_t)"
   ]
  },
  {
   "cell_type": "code",
   "execution_count": null,
   "id": "eaf90569",
   "metadata": {},
   "outputs": [],
   "source": []
  }
 ],
 "metadata": {
  "kernelspec": {
   "display_name": "Python 3 (ipykernel)",
   "language": "python",
   "name": "python3"
  },
  "language_info": {
   "codemirror_mode": {
    "name": "ipython",
    "version": 3
   },
   "file_extension": ".py",
   "mimetype": "text/x-python",
   "name": "python",
   "nbconvert_exporter": "python",
   "pygments_lexer": "ipython3",
   "version": "3.10.9"
  }
 },
 "nbformat": 4,
 "nbformat_minor": 5
}
