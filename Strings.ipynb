{
 "cells": [
  {
   "cell_type": "markdown",
   "id": "6d7b1fe5",
   "metadata": {},
   "source": [
    "# Strings"
   ]
  },
  {
   "cell_type": "markdown",
   "id": "6e11d3f6",
   "metadata": {},
   "source": [
    "## Breaking into multi line"
   ]
  },
  {
   "cell_type": "code",
   "execution_count": 6,
   "id": "9041fab3",
   "metadata": {},
   "outputs": [
    {
     "name": "stdout",
     "output_type": "stream",
     "text": [
      "Longtext example\n"
     ]
    }
   ],
   "source": [
    "# 1. Using slash character\n",
    "slash = \"Long\\\n",
    "text \\\n",
    "example\"\n",
    "print(slash)"
   ]
  },
  {
   "cell_type": "code",
   "execution_count": 10,
   "id": "2515bfb2",
   "metadata": {},
   "outputs": [
    {
     "name": "stdout",
     "output_type": "stream",
     "text": [
      "long text sample\n"
     ]
    }
   ],
   "source": [
    "#2 Using list (array) and join method with a space character as a delimiter\n",
    "wordlist = ['long',\n",
    "           'text',\n",
    "           'sample']\n",
    "print(' '.join(wordlist))"
   ]
  },
  {
   "cell_type": "code",
   "execution_count": null,
   "id": "3a87a1ed",
   "metadata": {},
   "outputs": [],
   "source": []
  }
 ],
 "metadata": {
  "kernelspec": {
   "display_name": "Python 3 (ipykernel)",
   "language": "python",
   "name": "python3"
  },
  "language_info": {
   "codemirror_mode": {
    "name": "ipython",
    "version": 3
   },
   "file_extension": ".py",
   "mimetype": "text/x-python",
   "name": "python",
   "nbconvert_exporter": "python",
   "pygments_lexer": "ipython3",
   "version": "3.10.9"
  }
 },
 "nbformat": 4,
 "nbformat_minor": 5
}
