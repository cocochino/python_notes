{
 "cells": [
  {
   "cell_type": "markdown",
   "id": "4ac040c4",
   "metadata": {},
   "source": [
    "# Sets\n",
    "- uses curly brackets. \n",
    "- Sets can't have duplicates\n",
    "-  Sets don't keep order of entry, you can't use subscript notation"
   ]
  },
  {
   "cell_type": "code",
   "execution_count": 1,
   "id": "ca0626c7",
   "metadata": {},
   "outputs": [],
   "source": [
    "cat_set = {'Preston', 'Ralph', 'Phrito', 'Mooshu'}"
   ]
  },
  {
   "cell_type": "code",
   "execution_count": 2,
   "id": "f0c2ac23",
   "metadata": {},
   "outputs": [
    {
     "ename": "TypeError",
     "evalue": "'set' object is not subscriptable",
     "output_type": "error",
     "traceback": [
      "\u001b[1;31m---------------------------------------------------------------------------\u001b[0m",
      "\u001b[1;31mTypeError\u001b[0m                                 Traceback (most recent call last)",
      "Cell \u001b[1;32mIn[2], line 2\u001b[0m\n\u001b[0;32m      1\u001b[0m \u001b[38;5;66;03m# *** WARNING*** below will fail as sets don't accept subscript notation \u001b[39;00m\n\u001b[1;32m----> 2\u001b[0m \u001b[38;5;28mprint\u001b[39m(\u001b[43mcat_set\u001b[49m\u001b[43m[\u001b[49m\u001b[38;5;241;43m0\u001b[39;49m\u001b[43m]\u001b[49m)\n",
      "\u001b[1;31mTypeError\u001b[0m: 'set' object is not subscriptable"
     ]
    }
   ],
   "source": [
    "# *** WARNING*** below will fail as sets don't accept subscript notation \n",
    "print(cat_set[0])"
   ]
  },
  {
   "cell_type": "code",
   "execution_count": 4,
   "id": "21dcb918",
   "metadata": {},
   "outputs": [
    {
     "name": "stdout",
     "output_type": "stream",
     "text": [
      "{'Phrito', 'Loren', 'Preston', 'Mooshu', 'Ralph'}\n",
      "{'Phrito', 'Loren', 'Preston', 'Mooshu', 'Ralph'}\n"
     ]
    }
   ],
   "source": [
    "# Set accepts appending, inserting, and removing but not duplicates\n",
    "cat_set.add(\"Loren\")\n",
    "print(cat_set)\n",
    "\n",
    "# This duplicate entry won't be added.\n",
    "cat_set.add(\"Loren\") \n",
    "print(cat_set)"
   ]
  },
  {
   "cell_type": "markdown",
   "id": "bb9cd0b3",
   "metadata": {},
   "source": [
    "### Differences between sets"
   ]
  },
  {
   "cell_type": "code",
   "execution_count": 6,
   "id": "80016bc2",
   "metadata": {},
   "outputs": [
    {
     "name": "stdout",
     "output_type": "stream",
     "text": [
      "{'Iko', 'Loren'}\n"
     ]
    }
   ],
   "source": [
    "my_feline = {'Preston', 'Ralph', 'Phrito', 'Mooshu', 'Iko', 'Loren'}\n",
    "siamese = {'Preston', 'Ralph', 'Phrito', 'Mooshu'}\n",
    "non_siamese = my_feline.difference(siamese)\n",
    "print(non_siamese)"
   ]
  },
  {
   "cell_type": "markdown",
   "id": "f9428f29",
   "metadata": {},
   "source": [
    "### Union of sets"
   ]
  },
  {
   "cell_type": "code",
   "execution_count": 7,
   "id": "f3b3a80f",
   "metadata": {},
   "outputs": [
    {
     "name": "stdout",
     "output_type": "stream",
     "text": [
      "{'Phrito', 'Lilly', 'Loren', 'Preston', 'Ana', 'Mooshu', 'Iko', 'Ralph'}\n"
     ]
    }
   ],
   "source": [
    "girl_feline = {'Phrito', 'Mooshu', 'Ana', 'Lilly'}\n",
    "print(my_feline.union(girl_feline))"
   ]
  },
  {
   "cell_type": "markdown",
   "id": "57380817",
   "metadata": {},
   "source": [
    "### Intersection of sets"
   ]
  },
  {
   "cell_type": "code",
   "execution_count": 8,
   "id": "25d24b43",
   "metadata": {},
   "outputs": [
    {
     "name": "stdout",
     "output_type": "stream",
     "text": [
      "{'Mooshu', 'Phrito'}\n"
     ]
    }
   ],
   "source": [
    "girl_feline = {'Phrito', 'Mooshu', 'Ana', 'Lilly'}\n",
    "print(my_feline.intersection(girl_feline))"
   ]
  },
  {
   "cell_type": "code",
   "execution_count": null,
   "id": "14007619",
   "metadata": {},
   "outputs": [],
   "source": []
  }
 ],
 "metadata": {
  "kernelspec": {
   "display_name": "Python 3 (ipykernel)",
   "language": "python",
   "name": "python3"
  },
  "language_info": {
   "codemirror_mode": {
    "name": "ipython",
    "version": 3
   },
   "file_extension": ".py",
   "mimetype": "text/x-python",
   "name": "python",
   "nbconvert_exporter": "python",
   "pygments_lexer": "ipython3",
   "version": "3.10.9"
  }
 },
 "nbformat": 4,
 "nbformat_minor": 5
}
