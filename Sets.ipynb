{
 "cells": [
  {
   "cell_type": "markdown",
   "id": "4ac040c4",
   "metadata": {},
   "source": [
    "# Sets\n",
    "- uses curly brackets. \n",
    "- Sets can't have duplicates\n",
    "-  Sets don't keep order of entry, you can't use subscript notation"
   ]
  },
  {
   "cell_type": "code",
   "execution_count": null,
   "id": "ca0626c7",
   "metadata": {},
   "outputs": [],
   "source": []
  }
 ],
 "metadata": {
  "kernelspec": {
   "display_name": "Python 3 (ipykernel)",
   "language": "python",
   "name": "python3"
  },
  "language_info": {
   "codemirror_mode": {
    "name": "ipython",
    "version": 3
   },
   "file_extension": ".py",
   "mimetype": "text/x-python",
   "name": "python",
   "nbconvert_exporter": "python",
   "pygments_lexer": "ipython3",
   "version": "3.10.9"
  }
 },
 "nbformat": 4,
 "nbformat_minor": 5
}
