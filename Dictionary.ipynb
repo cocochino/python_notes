{
 "cells": [
  {
   "cell_type": "markdown",
   "id": "5d06b246",
   "metadata": {},
   "source": [
    "# Dictionary"
   ]
  },
  {
   "cell_type": "code",
   "execution_count": 1,
   "id": "e88149f3",
   "metadata": {},
   "outputs": [],
   "source": [
    "dict_towns = {'Boston': 650706, 'Worcester': 205319, 'Cambridge':118485}"
   ]
  },
  {
   "cell_type": "markdown",
   "id": "ac873b6f",
   "metadata": {},
   "source": [
    "## Splitting key-value"
   ]
  },
  {
   "cell_type": "code",
   "execution_count": 2,
   "id": "4e38d60a",
   "metadata": {},
   "outputs": [
    {
     "name": "stdout",
     "output_type": "stream",
     "text": [
      "Boston - 650706\n",
      "Worcester - 205319\n",
      "Cambridge - 118485\n"
     ]
    }
   ],
   "source": [
    "for town in dict_towns:\n",
    "    print(town, '-', dict_towns[town])"
   ]
  },
  {
   "cell_type": "markdown",
   "id": "b419d9af",
   "metadata": {},
   "source": [
    "## Taking average of values"
   ]
  },
  {
   "cell_type": "code",
   "execution_count": 3,
   "id": "2dd7fa2a",
   "metadata": {},
   "outputs": [
    {
     "name": "stdout",
     "output_type": "stream",
     "text": [
      "324836.6666666667\n"
     ]
    }
   ],
   "source": [
    "from statistics import mean\n",
    "print(mean(dict_towns.values()))"
   ]
  },
  {
   "cell_type": "markdown",
   "id": "ca7b7baa",
   "metadata": {},
   "source": [
    "## Basic operatoins"
   ]
  },
  {
   "cell_type": "markdown",
   "id": "8c4040d8",
   "metadata": {},
   "source": [
    "### Updating existing values"
   ]
  },
  {
   "cell_type": "code",
   "execution_count": 4,
   "id": "5a521af8",
   "metadata": {},
   "outputs": [
    {
     "name": "stdout",
     "output_type": "stream",
     "text": [
      "Updated {'Boston': 650706, 'Worcester': 205319, 'Cambridge': 118488}\n"
     ]
    }
   ],
   "source": [
    "dict_towns['Cambridge'] =118488\n",
    "print(\"Updated\", dict_towns)"
   ]
  },
  {
   "cell_type": "markdown",
   "id": "e9f6dfc1",
   "metadata": {},
   "source": [
    "### Add a new item"
   ]
  },
  {
   "cell_type": "code",
   "execution_count": 5,
   "id": "d660bc01",
   "metadata": {},
   "outputs": [
    {
     "name": "stdout",
     "output_type": "stream",
     "text": [
      "{'Boston': 650706, 'Worcester': 205319, 'Cambridge': 118488, 'Lowell': 113608}\n"
     ]
    }
   ],
   "source": [
    "dict_towns['Lowell'] = 113608\n",
    "print (dict_towns)"
   ]
  },
  {
   "cell_type": "markdown",
   "id": "ad87d9ca",
   "metadata": {},
   "source": [
    "##  Checking contents"
   ]
  },
  {
   "cell_type": "markdown",
   "id": "b98bc2ce",
   "metadata": {},
   "source": [
    "### Dictionary empty or not? (boolean return)"
   ]
  },
  {
   "cell_type": "code",
   "execution_count": 6,
   "id": "ab73624f",
   "metadata": {},
   "outputs": [
    {
     "name": "stdout",
     "output_type": "stream",
     "text": [
      "False\n"
     ]
    }
   ],
   "source": [
    "dict = {}\n",
    "\n",
    "if dict:\n",
    "    print('True')\n",
    "else:\n",
    "    print('False')"
   ]
  },
  {
   "cell_type": "markdown",
   "id": "ad4e7fb1",
   "metadata": {},
   "source": [
    "### dictionary contains an item?"
   ]
  },
  {
   "cell_type": "code",
   "execution_count": 7,
   "id": "49a964ff",
   "metadata": {},
   "outputs": [
    {
     "name": "stdout",
     "output_type": "stream",
     "text": [
      "True\n"
     ]
    }
   ],
   "source": [
    "if \"Boston\" in dict_towns:\n",
    "    print('True')\n",
    "else:\n",
    "    print('False')    "
   ]
  },
  {
   "cell_type": "markdown",
   "id": "098c7578",
   "metadata": {},
   "source": [
    "### What is the n-th key?\n",
    "Check the below progression"
   ]
  },
  {
   "cell_type": "code",
   "execution_count": 13,
   "id": "984345d4",
   "metadata": {},
   "outputs": [
    {
     "name": "stdout",
     "output_type": "stream",
     "text": [
      "dict_keys(['Boston', 'Worcester', 'Cambridge', 'Lowell'])\n",
      "['Boston', 'Worcester', 'Cambridge', 'Lowell']\n",
      "Boston\n"
     ]
    }
   ],
   "source": [
    "print(dict_towns.keys())\n",
    "print(list(dict_towns.keys()))\n",
    "print(list(dict_towns.keys())[0])\n"
   ]
  },
  {
   "cell_type": "markdown",
   "id": "4f39eefa",
   "metadata": {},
   "source": [
    "## Dictionary comprehension\n",
    "Can be used to map user-to-user attribute.\n",
    "Converting the list to dictionary helps you retrieve item info without using a loop.\n",
    "This is helpful in information matching too.\n",
    "\n"
   ]
  },
  {
   "cell_type": "code",
   "execution_count": 16,
   "id": "7c54964b",
   "metadata": {},
   "outputs": [
    {
     "name": "stdout",
     "output_type": "stream",
     "text": [
      "Which cat do you want to see? (Preston, Ralphie, Phrito, Mooshu):  Phrito\n",
      "Retrieving Phrito's information....\n",
      "\tPhrito, favorite color is pink\n",
      "Do you know Phrito's favorite food? :  ciikies\n",
      "\tSorry, ciikies is not correct.\n"
     ]
    }
   ],
   "source": [
    "cats = [\n",
    "    (0, \"Preston\", 'grey', 'cheese'),\n",
    "    (1, \"Ralphie\", 'orange', 'tuna'),\n",
    "    (2, \"Phrito\", 'pink', 'cookies'),\n",
    "    (3, \"Mooshu\", 'chocolate', 'almond')    \n",
    "    ]\n",
    "\n",
    "cats_mapping = {cat[1].upper():cat for cat in cats} #each cat is a tuple. cat[1] is the 2nd item in the tuple.\n",
    "\n",
    "name = input(\"Which cat do you want to see? (Preston, Ralphie, Phrito, Mooshu):  \")\n",
    "print(f\"Retrieving {name}'s information....\")\n",
    "\n",
    "_, name, color, fav = cats_mapping[name.upper()]\n",
    "print(f\"\\t{name}, favorite color is {color}\")\n",
    "\n",
    "ans = input(f\"Do you know {name}'s favorite food? :  \")\n",
    "if ans == fav:\n",
    "    print(\"\\tYou are right!\")\n",
    "else:\n",
    "    print(f\"\\tSorry, {ans} is not correct.\")"
   ]
  },
  {
   "cell_type": "code",
   "execution_count": null,
   "id": "5adf28cc",
   "metadata": {},
   "outputs": [],
   "source": []
  }
 ],
 "metadata": {
  "kernelspec": {
   "display_name": "Python 3 (ipykernel)",
   "language": "python",
   "name": "python3"
  },
  "language_info": {
   "codemirror_mode": {
    "name": "ipython",
    "version": 3
   },
   "file_extension": ".py",
   "mimetype": "text/x-python",
   "name": "python",
   "nbconvert_exporter": "python",
   "pygments_lexer": "ipython3",
   "version": "3.10.9"
  }
 },
 "nbformat": 4,
 "nbformat_minor": 5
}
