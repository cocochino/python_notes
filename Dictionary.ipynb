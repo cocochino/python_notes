{
 "cells": [
  {
   "cell_type": "markdown",
   "id": "5d06b246",
   "metadata": {},
   "source": [
    "# Dictionary"
   ]
  },
  {
   "cell_type": "code",
   "execution_count": 4,
   "id": "e88149f3",
   "metadata": {},
   "outputs": [],
   "source": [
    "dict_towns = {'Boston': 650706, 'Worcester': 205319, 'Springfield':154064,'Cambridge':118485}"
   ]
  },
  {
   "cell_type": "markdown",
   "id": "ac873b6f",
   "metadata": {},
   "source": [
    "## Splitting key-value"
   ]
  },
  {
   "cell_type": "code",
   "execution_count": 17,
   "id": "4e38d60a",
   "metadata": {},
   "outputs": [
    {
     "name": "stdout",
     "output_type": "stream",
     "text": [
      "Boston - 650706\n",
      "Worcester - 205319\n",
      "Springfield - 154064\n",
      "Cambridge - 118485\n"
     ]
    }
   ],
   "source": [
    "for town in dict_towns:\n",
    "    print(town, '-', dict_towns[town])"
   ]
  },
  {
   "cell_type": "markdown",
   "id": "8c4040d8",
   "metadata": {},
   "source": [
    "## Updating"
   ]
  },
  {
   "cell_type": "code",
   "execution_count": 21,
   "id": "5a521af8",
   "metadata": {},
   "outputs": [
    {
     "name": "stdout",
     "output_type": "stream",
     "text": [
      "Updated  {'Boston': 650706, 'Worcester': 205319, 'Springfield': 154064, 'Cambridge': 118488}\n"
     ]
    }
   ],
   "source": [
    "dict_towns['Cambridge'] =118488\n",
    "print(\"Updated \", dict_towns)"
   ]
  },
  {
   "cell_type": "markdown",
   "id": "ad87d9ca",
   "metadata": {},
   "source": [
    "##  Empty dictionary return False\n",
    "It can be used as a boolean"
   ]
  },
  {
   "cell_type": "code",
   "execution_count": 3,
   "id": "ab73624f",
   "metadata": {},
   "outputs": [
    {
     "name": "stdout",
     "output_type": "stream",
     "text": [
      "False\n"
     ]
    }
   ],
   "source": [
    "dict = {}\n",
    "\n",
    "if dict:\n",
    "    print('True')\n",
    "else:\n",
    "    print('False')"
   ]
  },
  {
   "cell_type": "code",
   "execution_count": null,
   "id": "5abc556e",
   "metadata": {},
   "outputs": [],
   "source": []
  }
 ],
 "metadata": {
  "kernelspec": {
   "display_name": "Python 3 (ipykernel)",
   "language": "python",
   "name": "python3"
  },
  "language_info": {
   "codemirror_mode": {
    "name": "ipython",
    "version": 3
   },
   "file_extension": ".py",
   "mimetype": "text/x-python",
   "name": "python",
   "nbconvert_exporter": "python",
   "pygments_lexer": "ipython3",
   "version": "3.10.9"
  }
 },
 "nbformat": 4,
 "nbformat_minor": 5
}
