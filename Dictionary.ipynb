{
 "cells": [
  {
   "cell_type": "markdown",
   "id": "5d06b246",
   "metadata": {},
   "source": [
    "# Dictionary"
   ]
  },
  {
   "cell_type": "code",
   "execution_count": 7,
   "id": "e88149f3",
   "metadata": {},
   "outputs": [],
   "source": [
    "dict_towns = {'Boston': 650706, 'Worcester': 205319, 'Cambridge':118485}"
   ]
  },
  {
   "cell_type": "markdown",
   "id": "ac873b6f",
   "metadata": {},
   "source": [
    "## Splitting key-value"
   ]
  },
  {
   "cell_type": "code",
   "execution_count": 8,
   "id": "4e38d60a",
   "metadata": {},
   "outputs": [
    {
     "name": "stdout",
     "output_type": "stream",
     "text": [
      "Boston - 650706\n",
      "Worcester - 205319\n",
      "Cambridge - 118485\n"
     ]
    }
   ],
   "source": [
    "for town in dict_towns:\n",
    "    print(town, '-', dict_towns[town])"
   ]
  },
  {
   "cell_type": "markdown",
   "id": "b419d9af",
   "metadata": {},
   "source": [
    "## Taking average of values"
   ]
  },
  {
   "cell_type": "code",
   "execution_count": 19,
   "id": "2dd7fa2a",
   "metadata": {},
   "outputs": [
    {
     "name": "stdout",
     "output_type": "stream",
     "text": [
      "272030.25\n"
     ]
    }
   ],
   "source": [
    "from statistics import mean\n",
    "print(mean(dict_towns.values()))"
   ]
  },
  {
   "cell_type": "markdown",
   "id": "ca7b7baa",
   "metadata": {},
   "source": [
    "## Basic operatoins"
   ]
  },
  {
   "cell_type": "markdown",
   "id": "8c4040d8",
   "metadata": {},
   "source": [
    "### Updating existing values"
   ]
  },
  {
   "cell_type": "code",
   "execution_count": 9,
   "id": "5a521af8",
   "metadata": {},
   "outputs": [
    {
     "name": "stdout",
     "output_type": "stream",
     "text": [
      "Updated {'Boston': 650706, 'Worcester': 205319, 'Cambridge': 118488}\n"
     ]
    }
   ],
   "source": [
    "dict_towns['Cambridge'] =118488\n",
    "print(\"Updated\", dict_towns)"
   ]
  },
  {
   "cell_type": "markdown",
   "id": "e9f6dfc1",
   "metadata": {},
   "source": [
    "### Add a new item"
   ]
  },
  {
   "cell_type": "code",
   "execution_count": 10,
   "id": "d660bc01",
   "metadata": {},
   "outputs": [
    {
     "name": "stdout",
     "output_type": "stream",
     "text": [
      "{'Boston': 650706, 'Worcester': 205319, 'Cambridge': 118488, 'Lowell': 113608}\n"
     ]
    }
   ],
   "source": [
    "dict_towns['Lowell'] = 113608\n",
    "print (dict_towns)"
   ]
  },
  {
   "cell_type": "markdown",
   "id": "ad87d9ca",
   "metadata": {},
   "source": [
    "##  Checking contents"
   ]
  },
  {
   "cell_type": "markdown",
   "id": "b98bc2ce",
   "metadata": {},
   "source": [
    "### Dictionary empty or not? (boolean return)"
   ]
  },
  {
   "cell_type": "code",
   "execution_count": 12,
   "id": "ab73624f",
   "metadata": {},
   "outputs": [
    {
     "name": "stdout",
     "output_type": "stream",
     "text": [
      "False\n"
     ]
    }
   ],
   "source": [
    "dict = {}\n",
    "\n",
    "if dict:\n",
    "    print('True')\n",
    "else:\n",
    "    print('False')"
   ]
  },
  {
   "cell_type": "markdown",
   "id": "ad4e7fb1",
   "metadata": {},
   "source": [
    "### dictionary contains an item?"
   ]
  },
  {
   "cell_type": "code",
   "execution_count": 13,
   "id": "49a964ff",
   "metadata": {},
   "outputs": [
    {
     "name": "stdout",
     "output_type": "stream",
     "text": [
      "True\n"
     ]
    }
   ],
   "source": [
    "if \"Boston\" in dict_towns:\n",
    "    print('True')\n",
    "else:\n",
    "    print('False')    "
   ]
  },
  {
   "cell_type": "code",
   "execution_count": null,
   "id": "f54e3937",
   "metadata": {},
   "outputs": [],
   "source": []
  }
 ],
 "metadata": {
  "kernelspec": {
   "display_name": "Python 3 (ipykernel)",
   "language": "python",
   "name": "python3"
  },
  "language_info": {
   "codemirror_mode": {
    "name": "ipython",
    "version": 3
   },
   "file_extension": ".py",
   "mimetype": "text/x-python",
   "name": "python",
   "nbconvert_exporter": "python",
   "pygments_lexer": "ipython3",
   "version": "3.10.9"
  }
 },
 "nbformat": 4,
 "nbformat_minor": 5
}
