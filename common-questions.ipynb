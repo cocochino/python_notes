{
 "cells": [
  {
   "cell_type": "markdown",
   "id": "31b1a236",
   "metadata": {},
   "source": [
    "# Beginner level\n",
    "\n",
    "from https://codeinterview.io/blog/python-coding-interview-questions/"
   ]
  },
  {
   "cell_type": "markdown",
   "id": "b9dabfbc",
   "metadata": {},
   "source": [
    "## 1. What will be the output of the below code:\n",
    "\n",
    "var1 = 7\n",
    "\n",
    "var2 = 2\n",
    "\n",
    "result = var1 // var2+ var1%var2\n",
    "\n",
    "print(result)"
   ]
  },
  {
   "cell_type": "code",
   "execution_count": 1,
   "id": "8a5c891c",
   "metadata": {},
   "outputs": [
    {
     "name": "stdout",
     "output_type": "stream",
     "text": [
      "4\n"
     ]
    }
   ],
   "source": [
    "var1 = 7\n",
    "\n",
    "var2 = 2\n",
    "\n",
    "result = var1 // var2+ var1%var2\n",
    "\n",
    "print(result)"
   ]
  },
  {
   "cell_type": "markdown",
   "id": "c54a2e47",
   "metadata": {},
   "source": [
    "## 2. What is wrong with the below code:\n",
    "\n",
    "def concatenate_strings(str1, str2):\n",
    "\n",
    "\treturn str1 + \" \" + str2\n",
    "\n",
    "\n",
    "result = concatenate_strings(\"Test\", 3)\n",
    "\n",
    "print(result)"
   ]
  },
  {
   "cell_type": "code",
   "execution_count": 3,
   "id": "cef2385e",
   "metadata": {},
   "outputs": [
    {
     "ename": "TypeError",
     "evalue": "can only concatenate str (not \"int\") to str",
     "output_type": "error",
     "traceback": [
      "\u001b[1;31m---------------------------------------------------------------------------\u001b[0m",
      "\u001b[1;31mTypeError\u001b[0m                                 Traceback (most recent call last)",
      "Cell \u001b[1;32mIn[3], line 4\u001b[0m\n\u001b[0;32m      1\u001b[0m \u001b[38;5;28;01mdef\u001b[39;00m \u001b[38;5;21mconcatenate_strings\u001b[39m(str1, str2):\n\u001b[0;32m      2\u001b[0m     \u001b[38;5;28;01mreturn\u001b[39;00m str1 \u001b[38;5;241m+\u001b[39m \u001b[38;5;124m\"\u001b[39m\u001b[38;5;124m \u001b[39m\u001b[38;5;124m\"\u001b[39m \u001b[38;5;241m+\u001b[39m str2\n\u001b[1;32m----> 4\u001b[0m result \u001b[38;5;241m=\u001b[39m \u001b[43mconcatenate_strings\u001b[49m\u001b[43m(\u001b[49m\u001b[38;5;124;43m\"\u001b[39;49m\u001b[38;5;124;43mTest\u001b[39;49m\u001b[38;5;124;43m\"\u001b[39;49m\u001b[43m,\u001b[49m\u001b[43m \u001b[49m\u001b[38;5;241;43m3\u001b[39;49m\u001b[43m)\u001b[49m\n\u001b[0;32m      5\u001b[0m \u001b[38;5;28mprint\u001b[39m(result)\n",
      "Cell \u001b[1;32mIn[3], line 2\u001b[0m, in \u001b[0;36mconcatenate_strings\u001b[1;34m(str1, str2)\u001b[0m\n\u001b[0;32m      1\u001b[0m \u001b[38;5;28;01mdef\u001b[39;00m \u001b[38;5;21mconcatenate_strings\u001b[39m(str1, str2):\n\u001b[1;32m----> 2\u001b[0m     \u001b[38;5;28;01mreturn\u001b[39;00m \u001b[43mstr1\u001b[49m\u001b[43m \u001b[49m\u001b[38;5;241;43m+\u001b[39;49m\u001b[43m \u001b[49m\u001b[38;5;124;43m\"\u001b[39;49m\u001b[38;5;124;43m \u001b[39;49m\u001b[38;5;124;43m\"\u001b[39;49m\u001b[43m \u001b[49m\u001b[38;5;241;43m+\u001b[39;49m\u001b[43m \u001b[49m\u001b[43mstr2\u001b[49m\n",
      "\u001b[1;31mTypeError\u001b[0m: can only concatenate str (not \"int\") to str"
     ]
    }
   ],
   "source": [
    "def concatenate_strings(str1, str2):\n",
    "    return str1 + \" \" + str2\n",
    " \n",
    "result = concatenate_strings(\"Test\", 3)\n",
    "print(result)"
   ]
  },
  {
   "cell_type": "markdown",
   "id": "a433a173",
   "metadata": {},
   "source": [
    "## 3. What is wrong with the below code:\n",
    "\n",
    "def print_uppercase(text):\n",
    "\n",
    "\tfor letter in text:\n",
    "\n",
    "print(letter.upper())\n",
    " \n",
    "print_uppercase([\"Test\", \"Python\"])"
   ]
  },
  {
   "cell_type": "code",
   "execution_count": 4,
   "id": "53b9962f",
   "metadata": {},
   "outputs": [
    {
     "name": "stdout",
     "output_type": "stream",
     "text": [
      "TEST\n",
      "PYTHON\n"
     ]
    }
   ],
   "source": [
    "def print_uppercase(text):\n",
    "    for letter in text:\n",
    "        print(letter.upper())\n",
    "\n",
    "print_uppercase([\"Test\", \"Python\"])"
   ]
  },
  {
   "cell_type": "code",
   "execution_count": null,
   "id": "ff3a44b0",
   "metadata": {},
   "outputs": [],
   "source": []
  }
 ],
 "metadata": {
  "kernelspec": {
   "display_name": "Python 3 (ipykernel)",
   "language": "python",
   "name": "python3"
  },
  "language_info": {
   "codemirror_mode": {
    "name": "ipython",
    "version": 3
   },
   "file_extension": ".py",
   "mimetype": "text/x-python",
   "name": "python",
   "nbconvert_exporter": "python",
   "pygments_lexer": "ipython3",
   "version": "3.10.9"
  }
 },
 "nbformat": 4,
 "nbformat_minor": 5
}
