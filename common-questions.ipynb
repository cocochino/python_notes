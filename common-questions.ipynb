{
 "cells": [
  {
   "cell_type": "markdown",
   "id": "31b1a236",
   "metadata": {},
   "source": [
    "# Beginner level\n",
    "\n",
    "from https://codeinterview.io/blog/python-coding-interview-questions/"
   ]
  },
  {
   "cell_type": "markdown",
   "id": "b9dabfbc",
   "metadata": {},
   "source": [
    "## 1. What will be the output of the below code:\n",
    "\n",
    "var1 = 7\n",
    "\n",
    "var2 = 2\n",
    "\n",
    "result = var1 // var2+ var1%var2\n",
    "\n",
    "print(result)\n",
    "\n",
    "- This is the case of division and remainder"
   ]
  },
  {
   "cell_type": "code",
   "execution_count": 1,
   "id": "8a5c891c",
   "metadata": {},
   "outputs": [
    {
     "name": "stdout",
     "output_type": "stream",
     "text": [
      "4\n"
     ]
    }
   ],
   "source": [
    "var1 = 7\n",
    "\n",
    "var2 = 2\n",
    "\n",
    "result = var1 // var2+ var1%var2\n",
    "\n",
    "print(result)"
   ]
  },
  {
   "cell_type": "markdown",
   "id": "c54a2e47",
   "metadata": {},
   "source": [
    "## 2. What is wrong with the below code:\n",
    "\n",
    "def concatenate_strings(str1, str2):\n",
    "\n",
    "\treturn str1 + \" \" + str2\n",
    "\n",
    "\n",
    "result = concatenate_strings(\"Test\", 3)\n",
    "\n",
    "print(result)\n",
    "\n",
    "- The function is assumign that input is always in String although in this case a integer is given."
   ]
  },
  {
   "cell_type": "code",
   "execution_count": 2,
   "id": "cef2385e",
   "metadata": {},
   "outputs": [
    {
     "ename": "TypeError",
     "evalue": "can only concatenate str (not \"int\") to str",
     "output_type": "error",
     "traceback": [
      "\u001b[1;31m---------------------------------------------------------------------------\u001b[0m",
      "\u001b[1;31mTypeError\u001b[0m                                 Traceback (most recent call last)",
      "Cell \u001b[1;32mIn[2], line 4\u001b[0m\n\u001b[0;32m      1\u001b[0m \u001b[38;5;28;01mdef\u001b[39;00m \u001b[38;5;21mconcatenate_strings\u001b[39m(str1, str2):\n\u001b[0;32m      2\u001b[0m     \u001b[38;5;28;01mreturn\u001b[39;00m str1 \u001b[38;5;241m+\u001b[39m \u001b[38;5;124m\"\u001b[39m\u001b[38;5;124m \u001b[39m\u001b[38;5;124m\"\u001b[39m \u001b[38;5;241m+\u001b[39m str2\n\u001b[1;32m----> 4\u001b[0m result \u001b[38;5;241m=\u001b[39m \u001b[43mconcatenate_strings\u001b[49m\u001b[43m(\u001b[49m\u001b[38;5;124;43m\"\u001b[39;49m\u001b[38;5;124;43mTest\u001b[39;49m\u001b[38;5;124;43m\"\u001b[39;49m\u001b[43m,\u001b[49m\u001b[43m \u001b[49m\u001b[38;5;241;43m3\u001b[39;49m\u001b[43m)\u001b[49m\n\u001b[0;32m      5\u001b[0m \u001b[38;5;28mprint\u001b[39m(result)\n",
      "Cell \u001b[1;32mIn[2], line 2\u001b[0m, in \u001b[0;36mconcatenate_strings\u001b[1;34m(str1, str2)\u001b[0m\n\u001b[0;32m      1\u001b[0m \u001b[38;5;28;01mdef\u001b[39;00m \u001b[38;5;21mconcatenate_strings\u001b[39m(str1, str2):\n\u001b[1;32m----> 2\u001b[0m     \u001b[38;5;28;01mreturn\u001b[39;00m \u001b[43mstr1\u001b[49m\u001b[43m \u001b[49m\u001b[38;5;241;43m+\u001b[39;49m\u001b[43m \u001b[49m\u001b[38;5;124;43m\"\u001b[39;49m\u001b[38;5;124;43m \u001b[39;49m\u001b[38;5;124;43m\"\u001b[39;49m\u001b[43m \u001b[49m\u001b[38;5;241;43m+\u001b[39;49m\u001b[43m \u001b[49m\u001b[43mstr2\u001b[49m\n",
      "\u001b[1;31mTypeError\u001b[0m: can only concatenate str (not \"int\") to str"
     ]
    }
   ],
   "source": [
    "def concatenate_strings(str1, str2):\n",
    "    return str1 + \" \" + str2\n",
    " \n",
    "result = concatenate_strings(\"Test\", 3)\n",
    "print(result)"
   ]
  },
  {
   "cell_type": "markdown",
   "id": "a433a173",
   "metadata": {},
   "source": [
    "## 3. What is wrong with the below code:\n",
    "\n",
    "def print_uppercase(text):\n",
    "\n",
    "\tfor letter in text:\n",
    "    print(letter.upper())\n",
    " \n",
    "print_uppercase([\"Test\", \"Python\"])\n",
    "\n",
    "- Unless it is a type in the website, this is about the issue in indentation"
   ]
  },
  {
   "cell_type": "code",
   "execution_count": 28,
   "id": "53b9962f",
   "metadata": {},
   "outputs": [
    {
     "name": "stdout",
     "output_type": "stream",
     "text": [
      "TEST\n",
      "PYTHON\n"
     ]
    }
   ],
   "source": [
    "def print_uppercase(text):\n",
    "    for letter in text:\n",
    "        print(letter.upper())\n",
    "\n",
    "print_uppercase([\"Test\", \"Python\"])"
   ]
  },
  {
   "cell_type": "markdown",
   "id": "cbb3526c",
   "metadata": {},
   "source": [
    "## 4. Write a method that calculates the simple interest on a loan. \n",
    "The program should take user input for the principal amount, the annual interest rate \n",
    "(as a percentage), and the time to pay in years. The program should calculate and display the total amount (principal + interest) after the specified time.\n",
    "\n",
    "- Note that input needs to be type casted\n",
    "- Also, the value should be rounded"
   ]
  },
  {
   "cell_type": "code",
   "execution_count": null,
   "id": "310d47f9",
   "metadata": {},
   "outputs": [],
   "source": [
    "principal = float(input(\"Please enter principal: \"))\n",
    "print(principal)\n",
    "\n",
    "rate = float(input(\"Please enter interste rate (as a percentage): \"))\n",
    "print(rate, \"%\")\n",
    "\n",
    "term = int(input(\"Please enter loan term (years): \"))\n",
    "print(term)\n",
    "\n",
    "rate_percent = rate/100\n",
    "\n",
    "total = principal\n",
    "remainder = term\n",
    "\n",
    "while remainder > 0:\n",
    "    total = total + round((total * rate_percent), 2)\n",
    "    remainder = remainder - 1\n",
    "\n",
    "print(f\"\\n After  years, your total payment will be {total}.\")    "
   ]
  },
  {
   "cell_type": "markdown",
   "id": "d52c8705",
   "metadata": {},
   "source": [
    "## 5. What will be the output of the following code:\n",
    "\n",
    "- Note that in below y maintains its content during the session\n",
    "\n",
    "def test(x, y=[]):\n",
    "\n",
    "\ty.append(x)\n",
    "\n",
    "    return y\n",
    "\n",
    "print(test(1))\n",
    "\n",
    "print(test(2))"
   ]
  },
  {
   "cell_type": "code",
   "execution_count": null,
   "id": "831c6c89",
   "metadata": {},
   "outputs": [],
   "source": [
    "def test(x, y=[]):\n",
    "    y.append(x)\n",
    "    return y\n",
    "print(test(1))\n",
    "print(test(2))"
   ]
  },
  {
   "cell_type": "markdown",
   "id": "3d6aa92b",
   "metadata": {},
   "source": [
    "## 6. What is wrong in the below code\n",
    "\n",
    "name = input(\"Input your name: \")\n",
    "\n",
    "\n",
    "if name == \"John\" or \"Brian\":\n",
    "\n",
    "\tprint(\"Welcome, John or Brian!\")\n",
    "    \n",
    "else:\n",
    "\n",
    "\tprint(\"You're not John or Brian.\")\n",
    "    \n",
    "- I'm not sure about this. Is if statement expented to display either one of the two names?"
   ]
  },
  {
   "cell_type": "code",
   "execution_count": null,
   "id": "fc36296f",
   "metadata": {},
   "outputs": [],
   "source": [
    "name = input(\"Input your name: \")\n",
    "if name == \"John\" or \"Brian\":\n",
    "    print(\"Welcome, John or Brian!\")\n",
    "else:\n",
    "    print(\"You're not John or Brian.\")"
   ]
  },
  {
   "cell_type": "markdown",
   "id": "e804cf3a",
   "metadata": {},
   "source": [
    "## 7. Create a simple calculator that can perform basic arithmetic operations (addition, subtraction, multiplication and division) on two numbers. \n",
    "The program should take user input for both numbers and the desired operation. \n",
    "\n",
    "The result of the operation will be printed on the screen.  \n",
    "\n",
    "- Case statement by match and case\n",
    "- Underscore for catch-all\n",
    "- Division by 0 error"
   ]
  },
  {
   "cell_type": "code",
   "execution_count": null,
   "id": "10102264",
   "metadata": {},
   "outputs": [],
   "source": [
    "num1 = float(3)\n",
    "num2 = float(0)\n",
    "operator = 'A'\n",
    "\n",
    "result = 0\n",
    "\n",
    "match operator:\n",
    "    case \"+\":\n",
    "            #print('addition')\n",
    "            result = num1 + num2\n",
    "    case \"-\":\n",
    "            #print('subtraction')\n",
    "            result = num1 -num2\n",
    "    case \"x\":\n",
    "            #print('multiplication')\n",
    "            result = num1 * num2\n",
    "    case \"/\":\n",
    "            #print('division')\n",
    "            if num2 != 0:\n",
    "                result = num1 / num2\n",
    "            else:\n",
    "                print(\"Division by 0 not supported.\")\n",
    "                result = \"N/A\"\n",
    "    case _:\n",
    "            print(f'Operation with \"{operator}\" not supported')\n",
    "            result = \"N/A\"\n",
    "\n",
    "print(f\"The result is {result}.\")"
   ]
  },
  {
   "cell_type": "markdown",
   "id": "3d7ba173",
   "metadata": {},
   "source": [
    "## 8. What will be the output of the following code\n",
    "\n",
    "numbers = [5, 1, 9, 3, 7]\n",
    "\n",
    "squared_numbers = list(map(lambda x: x**2, numbers))\n",
    "\n",
    "squared_numbers.sort(reverse=True)\n",
    "\n",
    "print(squared_numbers[:3])\n",
    "\n",
    "- Note that\n",
    "    - list.reverse() will reverse the order of elements in the list\n",
    "    - sort(reverse=True) will reverse-sort the list in dictionary or numeric order, regardless of the element position\n",
    "    \n",
    "See https://sandbox650.wordpress.com/2023/08/30/python-differences-between-list-reverse-and-list-sortreversetrue/"
   ]
  },
  {
   "cell_type": "code",
   "execution_count": null,
   "id": "f7826f34",
   "metadata": {},
   "outputs": [],
   "source": [
    "numbers = [5, 1, 9, 3, 7]\n",
    "squared_numbers = list(map(lambda x: x**2, numbers))\n",
    "\n",
    "print(\"Original list: \", squared_numbers)\n",
    "\n",
    "squared_numbers.reverse()\n",
    "print(\"With list.reverse(): \", squared_numbers)\n",
    "\n",
    "squared_numbers.sort(reverse=True)\n",
    "print(\"With list.sort(reverse=True):\", squared_numbers)\n",
    "\n",
    "print(\"Element 0, 1, 2: \", squared_numbers[:3])"
   ]
  },
  {
   "cell_type": "markdown",
   "id": "60e4b2f0",
   "metadata": {},
   "source": [
    "## 9. What is wrong with the below code:\n",
    "\n",
    "import requests\n",
    "\n",
    "\n",
    "url = \"https://jsonplaceholder.typicode.com/users\"\n",
    "\n",
    "response = requests.get(url)\n",
    "\n",
    "data = response.json()\n",
    " \n",
    "email_addresses = [user[\"email\"] for user in data if user[\"company\"][\"catchPhrase\"].contains(\"fintech\")]\n",
    "\n",
    "print(email_addresses)\n",
    "\n",
    "- .contains() is not a string function. \n",
    "- To use .contains(), import operator module and do operator(a, b) where b is the work you want to look up in a.\n",
    "- The case above should use __contains__()\n",
    "- Quickest way is to use \"in\"\n",
    "\n",
    "https://docs.python.org/3.8/library/operator.html#operator.contains\n",
    "\n",
    "Posted here - https://sandbox650.wordpress.com/2023/08/30/looking-up-substrings-contains-__contains__-and-in/"
   ]
  },
  {
   "cell_type": "code",
   "execution_count": 12,
   "id": "4c62319e",
   "metadata": {},
   "outputs": [
    {
     "ename": "AttributeError",
     "evalue": "'str' object has no attribute 'contains'",
     "output_type": "error",
     "traceback": [
      "\u001b[1;31m---------------------------------------------------------------------------\u001b[0m",
      "\u001b[1;31mAttributeError\u001b[0m                            Traceback (most recent call last)",
      "Cell \u001b[1;32mIn[12], line 8\u001b[0m\n\u001b[0;32m      5\u001b[0m response \u001b[38;5;241m=\u001b[39m requests\u001b[38;5;241m.\u001b[39mget(url)\n\u001b[0;32m      6\u001b[0m data \u001b[38;5;241m=\u001b[39m response\u001b[38;5;241m.\u001b[39mjson()\n\u001b[1;32m----> 8\u001b[0m email_addresses \u001b[38;5;241m=\u001b[39m [user[\u001b[38;5;124m\"\u001b[39m\u001b[38;5;124memail\u001b[39m\u001b[38;5;124m\"\u001b[39m] \u001b[38;5;28;01mfor\u001b[39;00m user \u001b[38;5;129;01min\u001b[39;00m data \u001b[38;5;28;01mif\u001b[39;00m user[\u001b[38;5;124m\"\u001b[39m\u001b[38;5;124mcompany\u001b[39m\u001b[38;5;124m\"\u001b[39m][\u001b[38;5;124m\"\u001b[39m\u001b[38;5;124mcatchPhrase\u001b[39m\u001b[38;5;124m\"\u001b[39m]\u001b[38;5;241m.\u001b[39mcontains(\u001b[38;5;124m\"\u001b[39m\u001b[38;5;124mfintech\u001b[39m\u001b[38;5;124m\"\u001b[39m)]\n\u001b[0;32m      9\u001b[0m \u001b[38;5;28mprint\u001b[39m(email_addresses)\n",
      "Cell \u001b[1;32mIn[12], line 8\u001b[0m, in \u001b[0;36m<listcomp>\u001b[1;34m(.0)\u001b[0m\n\u001b[0;32m      5\u001b[0m response \u001b[38;5;241m=\u001b[39m requests\u001b[38;5;241m.\u001b[39mget(url)\n\u001b[0;32m      6\u001b[0m data \u001b[38;5;241m=\u001b[39m response\u001b[38;5;241m.\u001b[39mjson()\n\u001b[1;32m----> 8\u001b[0m email_addresses \u001b[38;5;241m=\u001b[39m [user[\u001b[38;5;124m\"\u001b[39m\u001b[38;5;124memail\u001b[39m\u001b[38;5;124m\"\u001b[39m] \u001b[38;5;28;01mfor\u001b[39;00m user \u001b[38;5;129;01min\u001b[39;00m data \u001b[38;5;28;01mif\u001b[39;00m \u001b[43muser\u001b[49m\u001b[43m[\u001b[49m\u001b[38;5;124;43m\"\u001b[39;49m\u001b[38;5;124;43mcompany\u001b[39;49m\u001b[38;5;124;43m\"\u001b[39;49m\u001b[43m]\u001b[49m\u001b[43m[\u001b[49m\u001b[38;5;124;43m\"\u001b[39;49m\u001b[38;5;124;43mcatchPhrase\u001b[39;49m\u001b[38;5;124;43m\"\u001b[39;49m\u001b[43m]\u001b[49m\u001b[38;5;241;43m.\u001b[39;49m\u001b[43mcontains\u001b[49m(\u001b[38;5;124m\"\u001b[39m\u001b[38;5;124mfintech\u001b[39m\u001b[38;5;124m\"\u001b[39m)]\n\u001b[0;32m      9\u001b[0m \u001b[38;5;28mprint\u001b[39m(email_addresses)\n",
      "\u001b[1;31mAttributeError\u001b[0m: 'str' object has no attribute 'contains'"
     ]
    }
   ],
   "source": [
    "#Below code fails because of incorrect use od .contains()\n",
    "\n",
    "import requests\n",
    "url = \"https://jsonplaceholder.typicode.com/users\"\n",
    "response = requests.get(url)\n",
    "data = response.json()\n",
    " \n",
    "email_addresses = [user[\"email\"] for user in data if user[\"company\"][\"catchPhrase\"].contains(\"fintech\")]\n",
    "print(email_addresses)"
   ]
  },
  {
   "cell_type": "code",
   "execution_count": 7,
   "id": "9b0049b5",
   "metadata": {},
   "outputs": [
    {
     "ename": "AttributeError",
     "evalue": "'str' object has no attribute 'contains'",
     "output_type": "error",
     "traceback": [
      "\u001b[1;31m---------------------------------------------------------------------------\u001b[0m",
      "\u001b[1;31mAttributeError\u001b[0m                            Traceback (most recent call last)",
      "Cell \u001b[1;32mIn[7], line 4\u001b[0m\n\u001b[0;32m      1\u001b[0m \u001b[38;5;66;03m#Incorrect way to use .contains()\u001b[39;00m\n\u001b[0;32m      3\u001b[0m text \u001b[38;5;241m=\u001b[39m \u001b[38;5;124m\"\u001b[39m\u001b[38;5;124mPenguin Land\u001b[39m\u001b[38;5;124m\"\u001b[39m\n\u001b[1;32m----> 4\u001b[0m \u001b[43mtext\u001b[49m\u001b[38;5;241;43m.\u001b[39;49m\u001b[43mcontains\u001b[49m(\u001b[38;5;124m\"\u001b[39m\u001b[38;5;124mand\u001b[39m\u001b[38;5;124m\"\u001b[39m)\n",
      "\u001b[1;31mAttributeError\u001b[0m: 'str' object has no attribute 'contains'"
     ]
    }
   ],
   "source": [
    "#Incorrect way to use .contains()\n",
    "\n",
    "text = \"Penguin Land\"\n",
    "text.contains(\"and\")"
   ]
  },
  {
   "cell_type": "code",
   "execution_count": 8,
   "id": "f8287c65",
   "metadata": {},
   "outputs": [
    {
     "data": {
      "text/plain": [
       "True"
      ]
     },
     "execution_count": 8,
     "metadata": {},
     "output_type": "execute_result"
    }
   ],
   "source": [
    "#Correct way to use .contains()\n",
    "\n",
    "import operator\n",
    "operator.contains(\"Penguin Land\", \"Pen\")"
   ]
  },
  {
   "cell_type": "code",
   "execution_count": 11,
   "id": "47903b00",
   "metadata": {},
   "outputs": [
    {
     "data": {
      "text/plain": [
       "True"
      ]
     },
     "execution_count": 11,
     "metadata": {},
     "output_type": "execute_result"
    }
   ],
   "source": [
    "#__contains__() can be used with String\n",
    "\n",
    "text = \"Chinstrap Penguin\"\n",
    "text.__contains__(\"rap\")"
   ]
  },
  {
   "cell_type": "code",
   "execution_count": 6,
   "id": "c5ff7ba8",
   "metadata": {},
   "outputs": [
    {
     "data": {
      "text/plain": [
       "True"
      ]
     },
     "execution_count": 6,
     "metadata": {},
     "output_type": "execute_result"
    }
   ],
   "source": [
    "#Quickest way is to use \"in\"\n",
    "\n",
    "\"lie\" in \"Adélie Penguin\""
   ]
  },
  {
   "cell_type": "markdown",
   "id": "3f15ac3f",
   "metadata": {},
   "source": [
    "## 10. Find the issue in the below code\n",
    "\n",
    "numbers = {1: \"one\", 2: \"two\", 3: \"three\"}\n",
    "\n",
    "for number in numbers:\n",
    "\n",
    "    if numbers[number] == \"two\":\n",
    "\n",
    "    del numbers[number]\n",
    "\n",
    "print(numbers)\n",
    "\n",
    "- Dictionary size can't be changed in the middle of iterations. \n",
    "- To do the same, create a new dictionary."
   ]
  },
  {
   "cell_type": "code",
   "execution_count": 25,
   "id": "33ee81bb",
   "metadata": {},
   "outputs": [
    {
     "ename": "RuntimeError",
     "evalue": "dictionary changed size during iteration",
     "output_type": "error",
     "traceback": [
      "\u001b[1;31m---------------------------------------------------------------------------\u001b[0m",
      "\u001b[1;31mRuntimeError\u001b[0m                              Traceback (most recent call last)",
      "Cell \u001b[1;32mIn[25], line 5\u001b[0m\n\u001b[0;32m      1\u001b[0m \u001b[38;5;66;03m#Incorrect way\u001b[39;00m\n\u001b[0;32m      3\u001b[0m penguins \u001b[38;5;241m=\u001b[39m {\u001b[38;5;241m1\u001b[39m: \u001b[38;5;124m\"\u001b[39m\u001b[38;5;124mKing\u001b[39m\u001b[38;5;124m\"\u001b[39m, \u001b[38;5;241m2\u001b[39m: \u001b[38;5;124m\"\u001b[39m\u001b[38;5;124mEmperor\u001b[39m\u001b[38;5;124m\"\u001b[39m, \u001b[38;5;241m3\u001b[39m: \u001b[38;5;124m\"\u001b[39m\u001b[38;5;124mGentoo\u001b[39m\u001b[38;5;124m\"\u001b[39m}\n\u001b[1;32m----> 5\u001b[0m \u001b[38;5;28;01mfor\u001b[39;00m num \u001b[38;5;129;01min\u001b[39;00m penguins:\n\u001b[0;32m      6\u001b[0m     \u001b[38;5;28;01mif\u001b[39;00m penguins[num] \u001b[38;5;241m==\u001b[39m \u001b[38;5;124m\"\u001b[39m\u001b[38;5;124mEmperor\u001b[39m\u001b[38;5;124m\"\u001b[39m:\n\u001b[0;32m      7\u001b[0m         \u001b[38;5;28;01mdel\u001b[39;00m penguins[num]\n",
      "\u001b[1;31mRuntimeError\u001b[0m: dictionary changed size during iteration"
     ]
    }
   ],
   "source": [
    "#Incorrect way\n",
    "\n",
    "penguins = {1: \"King\", 2: \"Emperor\", 3: \"Gentoo\"}\n",
    "\n",
    "for num in penguins:\n",
    "    if penguins[num] == \"Emperor\":\n",
    "        del penguins[num]\n",
    "print(penguins)"
   ]
  },
  {
   "cell_type": "code",
   "execution_count": 26,
   "id": "c74d1556",
   "metadata": {},
   "outputs": [
    {
     "name": "stdout",
     "output_type": "stream",
     "text": [
      "{1: 'King', 3: 'Gentoo'}\n"
     ]
    }
   ],
   "source": [
    "#Better\n",
    "\n",
    "penguins = {1: \"King\", 2: \"Emperor\", 3: \"Gentoo\"}\n",
    "new_penguins = {}\n",
    "\n",
    "for num in penguins:\n",
    "    if penguins[num] != \"Emperor\":\n",
    "        new_penguins[num] = penguins[num]\n",
    "print(new_penguins)"
   ]
  },
  {
   "cell_type": "code",
   "execution_count": null,
   "id": "9a60a8b4",
   "metadata": {},
   "outputs": [],
   "source": []
  }
 ],
 "metadata": {
  "kernelspec": {
   "display_name": "Python 3 (ipykernel)",
   "language": "python",
   "name": "python3"
  },
  "language_info": {
   "codemirror_mode": {
    "name": "ipython",
    "version": 3
   },
   "file_extension": ".py",
   "mimetype": "text/x-python",
   "name": "python",
   "nbconvert_exporter": "python",
   "pygments_lexer": "ipython3",
   "version": "3.10.9"
  }
 },
 "nbformat": 4,
 "nbformat_minor": 5
}
